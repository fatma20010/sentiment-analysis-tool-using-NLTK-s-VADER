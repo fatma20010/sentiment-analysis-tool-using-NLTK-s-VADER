{
 "cells": [
  {
   "cell_type": "code",
   "execution_count": 1,
   "id": "1b66a356-5d3a-49aa-b68d-9ba31586d0b0",
   "metadata": {},
   "outputs": [],
   "source": [
    "import numpy as np \n",
    "import pandas as pd"
   ]
  },
  {
   "cell_type": "code",
   "execution_count": 3,
   "id": "ffcdd87f-d998-4e72-9725-2edc8b058582",
   "metadata": {},
   "outputs": [],
   "source": [
    "df=pd.read_csv(\"C:/Users/MSI/Downloads/archive (20)/Reviews.csv\")"
   ]
  },
  {
   "cell_type": "code",
   "execution_count": 12,
   "id": "40cd0cff-eb97-4502-bd3b-70dd404d2c79",
   "metadata": {},
   "outputs": [
    {
     "data": {
      "text/html": [
       "<div>\n",
       "<style scoped>\n",
       "    .dataframe tbody tr th:only-of-type {\n",
       "        vertical-align: middle;\n",
       "    }\n",
       "\n",
       "    .dataframe tbody tr th {\n",
       "        vertical-align: top;\n",
       "    }\n",
       "\n",
       "    .dataframe thead th {\n",
       "        text-align: right;\n",
       "    }\n",
       "</style>\n",
       "<table border=\"1\" class=\"dataframe\">\n",
       "  <thead>\n",
       "    <tr style=\"text-align: right;\">\n",
       "      <th></th>\n",
       "      <th>Id</th>\n",
       "      <th>ProductId</th>\n",
       "      <th>UserId</th>\n",
       "      <th>ProfileName</th>\n",
       "      <th>HelpfulnessNumerator</th>\n",
       "      <th>HelpfulnessDenominator</th>\n",
       "      <th>Score</th>\n",
       "      <th>Time</th>\n",
       "      <th>Summary</th>\n",
       "      <th>Text</th>\n",
       "    </tr>\n",
       "  </thead>\n",
       "  <tbody>\n",
       "    <tr>\n",
       "      <th>525631</th>\n",
       "      <td>525632</td>\n",
       "      <td>B002JL0MT2</td>\n",
       "      <td>A2C7MG0YA9P3GB</td>\n",
       "      <td>Patricia Heredia</td>\n",
       "      <td>0</td>\n",
       "      <td>0</td>\n",
       "      <td>5</td>\n",
       "      <td>1317081600</td>\n",
       "      <td>Taste good!</td>\n",
       "      <td>I bought these for my wedding I added them to ...</td>\n",
       "    </tr>\n",
       "    <tr>\n",
       "      <th>557810</th>\n",
       "      <td>557811</td>\n",
       "      <td>B0021L9XK4</td>\n",
       "      <td>A338UAWRI8M2A7</td>\n",
       "      <td>pepper45322</td>\n",
       "      <td>0</td>\n",
       "      <td>1</td>\n",
       "      <td>5</td>\n",
       "      <td>1296000000</td>\n",
       "      <td>The only energy drink that does not give me he...</td>\n",
       "      <td>I have tried other brands of energy drinks and...</td>\n",
       "    </tr>\n",
       "    <tr>\n",
       "      <th>58630</th>\n",
       "      <td>58631</td>\n",
       "      <td>B0009YD7P2</td>\n",
       "      <td>A2GK2NODLRSUIB</td>\n",
       "      <td>J. Pilles \"Love my pups\"</td>\n",
       "      <td>0</td>\n",
       "      <td>0</td>\n",
       "      <td>5</td>\n",
       "      <td>1231718400</td>\n",
       "      <td>They love peanut butter in their Kong</td>\n",
       "      <td>My little guys love to have their Kongs filled...</td>\n",
       "    </tr>\n",
       "    <tr>\n",
       "      <th>497712</th>\n",
       "      <td>497713</td>\n",
       "      <td>B000HDK0D2</td>\n",
       "      <td>A3KVJQZM7GNBEK</td>\n",
       "      <td>Tara</td>\n",
       "      <td>0</td>\n",
       "      <td>0</td>\n",
       "      <td>5</td>\n",
       "      <td>1342051200</td>\n",
       "      <td>Delicious!</td>\n",
       "      <td>This product is a great one for someone obsess...</td>\n",
       "    </tr>\n",
       "    <tr>\n",
       "      <th>86659</th>\n",
       "      <td>86660</td>\n",
       "      <td>B000F9Z29U</td>\n",
       "      <td>ABK61YXJY9BRJ</td>\n",
       "      <td>Carol J. Morris \"grandma46706\"</td>\n",
       "      <td>0</td>\n",
       "      <td>0</td>\n",
       "      <td>5</td>\n",
       "      <td>1269129600</td>\n",
       "      <td>Very good bars.</td>\n",
       "      <td>These are very good bars and being individuall...</td>\n",
       "    </tr>\n",
       "    <tr>\n",
       "      <th>343298</th>\n",
       "      <td>343299</td>\n",
       "      <td>B000WFEN74</td>\n",
       "      <td>A34UV2FFXJPS3T</td>\n",
       "      <td>Susan Ackoff</td>\n",
       "      <td>2</td>\n",
       "      <td>2</td>\n",
       "      <td>5</td>\n",
       "      <td>1294185600</td>\n",
       "      <td>Great Cat Food</td>\n",
       "      <td>Wellness wet cat food is terrific.&lt;br /&gt;My thr...</td>\n",
       "    </tr>\n",
       "    <tr>\n",
       "      <th>331026</th>\n",
       "      <td>331027</td>\n",
       "      <td>B001D0676C</td>\n",
       "      <td>A8FYP62N41J1S</td>\n",
       "      <td>lkwilkins</td>\n",
       "      <td>0</td>\n",
       "      <td>0</td>\n",
       "      <td>5</td>\n",
       "      <td>1295136000</td>\n",
       "      <td>enjoyable pizza</td>\n",
       "      <td>I made this crust into one medium size pizza w...</td>\n",
       "    </tr>\n",
       "    <tr>\n",
       "      <th>524985</th>\n",
       "      <td>524986</td>\n",
       "      <td>B003Z3W232</td>\n",
       "      <td>A27DMJZDBHE6ZD</td>\n",
       "      <td>O.F.</td>\n",
       "      <td>0</td>\n",
       "      <td>0</td>\n",
       "      <td>5</td>\n",
       "      <td>1320105600</td>\n",
       "      <td>Excellent</td>\n",
       "      <td>Excellent taste and texture.  I used this prod...</td>\n",
       "    </tr>\n",
       "    <tr>\n",
       "      <th>319061</th>\n",
       "      <td>319062</td>\n",
       "      <td>B004SBELRU</td>\n",
       "      <td>A920YQSKVECLQ</td>\n",
       "      <td>Ontos Crewman \"0311 0353\"</td>\n",
       "      <td>0</td>\n",
       "      <td>0</td>\n",
       "      <td>4</td>\n",
       "      <td>1325203200</td>\n",
       "      <td>Japanese, not Korean</td>\n",
       "      <td>While this sauce can be used to make a present...</td>\n",
       "    </tr>\n",
       "    <tr>\n",
       "      <th>540592</th>\n",
       "      <td>540593</td>\n",
       "      <td>B001D0GV90</td>\n",
       "      <td>A6YN5508K6YBP</td>\n",
       "      <td>Karen B Mielke</td>\n",
       "      <td>4</td>\n",
       "      <td>4</td>\n",
       "      <td>5</td>\n",
       "      <td>1192060800</td>\n",
       "      <td>Fantastic Coffee</td>\n",
       "      <td>Definately the best K-Cup coffee out there. Th...</td>\n",
       "    </tr>\n",
       "  </tbody>\n",
       "</table>\n",
       "</div>"
      ],
      "text/plain": [
       "            Id   ProductId          UserId                     ProfileName  \\\n",
       "525631  525632  B002JL0MT2  A2C7MG0YA9P3GB                Patricia Heredia   \n",
       "557810  557811  B0021L9XK4  A338UAWRI8M2A7                     pepper45322   \n",
       "58630    58631  B0009YD7P2  A2GK2NODLRSUIB        J. Pilles \"Love my pups\"   \n",
       "497712  497713  B000HDK0D2  A3KVJQZM7GNBEK                            Tara   \n",
       "86659    86660  B000F9Z29U   ABK61YXJY9BRJ  Carol J. Morris \"grandma46706\"   \n",
       "343298  343299  B000WFEN74  A34UV2FFXJPS3T                    Susan Ackoff   \n",
       "331026  331027  B001D0676C   A8FYP62N41J1S                       lkwilkins   \n",
       "524985  524986  B003Z3W232  A27DMJZDBHE6ZD                            O.F.   \n",
       "319061  319062  B004SBELRU   A920YQSKVECLQ       Ontos Crewman \"0311 0353\"   \n",
       "540592  540593  B001D0GV90   A6YN5508K6YBP                  Karen B Mielke   \n",
       "\n",
       "        HelpfulnessNumerator  HelpfulnessDenominator  Score        Time  \\\n",
       "525631                     0                       0      5  1317081600   \n",
       "557810                     0                       1      5  1296000000   \n",
       "58630                      0                       0      5  1231718400   \n",
       "497712                     0                       0      5  1342051200   \n",
       "86659                      0                       0      5  1269129600   \n",
       "343298                     2                       2      5  1294185600   \n",
       "331026                     0                       0      5  1295136000   \n",
       "524985                     0                       0      5  1320105600   \n",
       "319061                     0                       0      4  1325203200   \n",
       "540592                     4                       4      5  1192060800   \n",
       "\n",
       "                                                  Summary  \\\n",
       "525631                                        Taste good!   \n",
       "557810  The only energy drink that does not give me he...   \n",
       "58630               They love peanut butter in their Kong   \n",
       "497712                                         Delicious!   \n",
       "86659                                     Very good bars.   \n",
       "343298                                     Great Cat Food   \n",
       "331026                                    enjoyable pizza   \n",
       "524985                                          Excellent   \n",
       "319061                               Japanese, not Korean   \n",
       "540592                                   Fantastic Coffee   \n",
       "\n",
       "                                                     Text  \n",
       "525631  I bought these for my wedding I added them to ...  \n",
       "557810  I have tried other brands of energy drinks and...  \n",
       "58630   My little guys love to have their Kongs filled...  \n",
       "497712  This product is a great one for someone obsess...  \n",
       "86659   These are very good bars and being individuall...  \n",
       "343298  Wellness wet cat food is terrific.<br />My thr...  \n",
       "331026  I made this crust into one medium size pizza w...  \n",
       "524985  Excellent taste and texture.  I used this prod...  \n",
       "319061  While this sauce can be used to make a present...  \n",
       "540592  Definately the best K-Cup coffee out there. Th...  "
      ]
     },
     "execution_count": 12,
     "metadata": {},
     "output_type": "execute_result"
    }
   ],
   "source": [
    "df.sample(10)"
   ]
  },
  {
   "cell_type": "code",
   "execution_count": 7,
   "id": "96f71d38-da20-4c07-8684-8249dce3d302",
   "metadata": {},
   "outputs": [
    {
     "data": {
      "text/plain": [
       "(568454, 10)"
      ]
     },
     "execution_count": 7,
     "metadata": {},
     "output_type": "execute_result"
    }
   ],
   "source": [
    "df.shape"
   ]
  },
  {
   "cell_type": "code",
   "execution_count": 16,
   "id": "98f694c6-baa6-496b-8ada-3126e0dd17a6",
   "metadata": {},
   "outputs": [
    {
     "data": {
      "image/png": "[encoded data removed]",
      "text/plain": [
       "<Figure size 1000x500 with 1 Axes>"
      ]
     },
     "metadata": {},
     "output_type": "display_data"
    }
   ],
   "source": [
    "import matplotlib.pyplot as plt\n",
    "fa = df['Score'].value_counts().sort_index() \\\n",
    "    .plot(kind='bar',\n",
    "          title='Counting Reviews by Stars',\n",
    "          figsize=(10, 5))\n",
    "fa.set_xlabel('Review Stars')\n",
    "plt.show()"
   ]
  },
  {
   "cell_type": "code",
   "execution_count": 30,
   "id": "720a44ed-2375-4a4a-9022-c3219730a355",
   "metadata": {},
   "outputs": [
    {
     "name": "stderr",
     "output_type": "stream",
     "text": [
      "[nltk_data] Downloading package vader_lexicon to\n",
      "[nltk_data]     C:\\Users\\MSI\\AppData\\Roaming\\nltk_data...\n",
      "[nltk_data]   Package vader_lexicon is already up-to-date!\n"
     ]
    }
   ],
   "source": [
    "import nltk\n",
    "import nltk\n",
    "nltk.download('vader_lexicon')\n",
    "from nltk.sentiment import SentimentIntensityAnalyzer\n",
    "from tqdm.notebook import tqdm\n",
    "\n",
    "sia = SentimentIntensityAnalyzer()"
   ]
  },
  {
   "cell_type": "code",
   "execution_count": 38,
   "id": "d5934ace-f0b3-4eb9-aee6-d537cc6b57af",
   "metadata": {},
   "outputs": [
    {
     "data": {
      "text/plain": [
       "{'neg': 0.0, 'neu': 0.401, 'pos': 0.599, 'compound': 0.4561}"
      ]
     },
     "execution_count": 38,
     "metadata": {},
     "output_type": "execute_result"
    }
   ],
   "source": [
    "sia.polarity_scores('I am so excited!')\n"
   ]
  },
  {
   "cell_type": "code",
   "execution_count": 36,
   "id": "b49e15fb-d7d1-430a-8afe-1ab49ca17956",
   "metadata": {},
   "outputs": [
    {
     "data": {
      "text/plain": [
       "{'neg': 0.787, 'neu': 0.213, 'pos': 0.0, 'compound': -0.5719}"
      ]
     },
     "execution_count": 36,
     "metadata": {},
     "output_type": "execute_result"
    }
   ],
   "source": [
    "sia.polarity_scores('I hate this.')"
   ]
  },
  {
   "cell_type": "code",
   "execution_count": 40,
   "id": "7b3031de-7701-41d4-b5c5-44026e6d20b4",
   "metadata": {},
   "outputs": [
    {
     "data": {
      "application/vnd.jupyter.widget-view+json": {
       "model_id": "17fcf9eb4a1c4cae9b99f4c748ef4a43",
       "version_major": 2,
       "version_minor": 0
      },
      "text/plain": [
       "  0%|          | 0/568454 [00:00<?, ?it/s]"
      ]
     },
     "metadata": {},
     "output_type": "display_data"
    }
   ],
   "source": [
    "res = {}\n",
    "for i, row in tqdm(df.iterrows(), total=len(df)):\n",
    "    text = row['Text']\n",
    "    myid = row['Id']\n",
    "    res[myid] = sia.polarity_scores(text)"
   ]
  },
  {
   "cell_type": "code",
   "execution_count": 42,
   "id": "de3c3d7e-0812-4822-88b6-7a9a20776b63",
   "metadata": {},
   "outputs": [],
   "source": [
    "new_df = pd.DataFrame(res).T\n",
    "new_df = new_df.reset_index().rename(columns={'index': 'Id'})\n",
    "new_df = new_df.merge(df, how='left')"
   ]
  },
  {
   "cell_type": "code",
   "execution_count": 44,
   "id": "80488b36-5725-4b1f-8503-b693219b795b",
   "metadata": {},
   "outputs": [
    {
     "data": {
      "text/html": [
       "<div>\n",
       "<style scoped>\n",
       "    .dataframe tbody tr th:only-of-type {\n",
       "        vertical-align: middle;\n",
       "    }\n",
       "\n",
       "    .dataframe tbody tr th {\n",
       "        vertical-align: top;\n",
       "    }\n",
       "\n",
       "    .dataframe thead th {\n",
       "        text-align: right;\n",
       "    }\n",
       "</style>\n",
       "<table border=\"1\" class=\"dataframe\">\n",
       "  <thead>\n",
       "    <tr style=\"text-align: right;\">\n",
       "      <th></th>\n",
       "      <th>Id</th>\n",
       "      <th>neg</th>\n",
       "      <th>neu</th>\n",
       "      <th>pos</th>\n",
       "      <th>compound</th>\n",
       "      <th>ProductId</th>\n",
       "      <th>UserId</th>\n",
       "      <th>ProfileName</th>\n",
       "      <th>HelpfulnessNumerator</th>\n",
       "      <th>HelpfulnessDenominator</th>\n",
       "      <th>Score</th>\n",
       "      <th>Time</th>\n",
       "      <th>Summary</th>\n",
       "      <th>Text</th>\n",
       "    </tr>\n",
       "  </thead>\n",
       "  <tbody>\n",
       "    <tr>\n",
       "      <th>0</th>\n",
       "      <td>1</td>\n",
       "      <td>0.000</td>\n",
       "      <td>0.695</td>\n",
       "      <td>0.305</td>\n",
       "      <td>0.9441</td>\n",
       "      <td>B001E4KFG0</td>\n",
       "      <td>A3SGXH7AUHU8GW</td>\n",
       "      <td>delmartian</td>\n",
       "      <td>1</td>\n",
       "      <td>1</td>\n",
       "      <td>5</td>\n",
       "      <td>1303862400</td>\n",
       "      <td>Good Quality Dog Food</td>\n",
       "      <td>I have bought several of the Vitality canned d...</td>\n",
       "    </tr>\n",
       "    <tr>\n",
       "      <th>1</th>\n",
       "      <td>2</td>\n",
       "      <td>0.138</td>\n",
       "      <td>0.862</td>\n",
       "      <td>0.000</td>\n",
       "      <td>-0.5664</td>\n",
       "      <td>B00813GRG4</td>\n",
       "      <td>A1D87F6ZCVE5NK</td>\n",
       "      <td>dll pa</td>\n",
       "      <td>0</td>\n",
       "      <td>0</td>\n",
       "      <td>1</td>\n",
       "      <td>1346976000</td>\n",
       "      <td>Not as Advertised</td>\n",
       "      <td>Product arrived labeled as Jumbo Salted Peanut...</td>\n",
       "    </tr>\n",
       "    <tr>\n",
       "      <th>2</th>\n",
       "      <td>3</td>\n",
       "      <td>0.091</td>\n",
       "      <td>0.754</td>\n",
       "      <td>0.155</td>\n",
       "      <td>0.8265</td>\n",
       "      <td>B000LQOCH0</td>\n",
       "      <td>ABXLMWJIXXAIN</td>\n",
       "      <td>Natalia Corres \"Natalia Corres\"</td>\n",
       "      <td>1</td>\n",
       "      <td>1</td>\n",
       "      <td>4</td>\n",
       "      <td>1219017600</td>\n",
       "      <td>\"Delight\" says it all</td>\n",
       "      <td>This is a confection that has been around a fe...</td>\n",
       "    </tr>\n",
       "    <tr>\n",
       "      <th>3</th>\n",
       "      <td>4</td>\n",
       "      <td>0.000</td>\n",
       "      <td>1.000</td>\n",
       "      <td>0.000</td>\n",
       "      <td>0.0000</td>\n",
       "      <td>B000UA0QIQ</td>\n",
       "      <td>A395BORC6FGVXV</td>\n",
       "      <td>Karl</td>\n",
       "      <td>3</td>\n",
       "      <td>3</td>\n",
       "      <td>2</td>\n",
       "      <td>1307923200</td>\n",
       "      <td>Cough Medicine</td>\n",
       "      <td>If you are looking for the secret ingredient i...</td>\n",
       "    </tr>\n",
       "    <tr>\n",
       "      <th>4</th>\n",
       "      <td>5</td>\n",
       "      <td>0.000</td>\n",
       "      <td>0.552</td>\n",
       "      <td>0.448</td>\n",
       "      <td>0.9468</td>\n",
       "      <td>B006K2ZZ7K</td>\n",
       "      <td>A1UQRSCLF8GW1T</td>\n",
       "      <td>Michael D. Bigham \"M. Wassir\"</td>\n",
       "      <td>0</td>\n",
       "      <td>0</td>\n",
       "      <td>5</td>\n",
       "      <td>1350777600</td>\n",
       "      <td>Great taffy</td>\n",
       "      <td>Great taffy at a great price.  There was a wid...</td>\n",
       "    </tr>\n",
       "  </tbody>\n",
       "</table>\n",
       "</div>"
      ],
      "text/plain": [
       "   Id    neg    neu    pos  compound   ProductId          UserId  \\\n",
       "0   1  0.000  0.695  0.305    0.9441  B001E4KFG0  A3SGXH7AUHU8GW   \n",
       "1   2  0.138  0.862  0.000   -0.5664  B00813GRG4  A1D87F6ZCVE5NK   \n",
       "2   3  0.091  0.754  0.155    0.8265  B000LQOCH0   ABXLMWJIXXAIN   \n",
       "3   4  0.000  1.000  0.000    0.0000  B000UA0QIQ  A395BORC6FGVXV   \n",
       "4   5  0.000  0.552  0.448    0.9468  B006K2ZZ7K  A1UQRSCLF8GW1T   \n",
       "\n",
       "                       ProfileName  HelpfulnessNumerator  \\\n",
       "0                       delmartian                     1   \n",
       "1                           dll pa                     0   \n",
       "2  Natalia Corres \"Natalia Corres\"                     1   \n",
       "3                             Karl                     3   \n",
       "4    Michael D. Bigham \"M. Wassir\"                     0   \n",
       "\n",
       "   HelpfulnessDenominator  Score        Time                Summary  \\\n",
       "0                       1      5  1303862400  Good Quality Dog Food   \n",
       "1                       0      1  1346976000      Not as Advertised   \n",
       "2                       1      4  1219017600  \"Delight\" says it all   \n",
       "3                       3      2  1307923200         Cough Medicine   \n",
       "4                       0      5  1350777600            Great taffy   \n",
       "\n",
       "                                                Text  \n",
       "0  I have bought several of the Vitality canned d...  \n",
       "1  Product arrived labeled as Jumbo Salted Peanut...  \n",
       "2  This is a confection that has been around a fe...  \n",
       "3  If you are looking for the secret ingredient i...  \n",
       "4  Great taffy at a great price.  There was a wid...  "
      ]
     },
     "execution_count": 44,
     "metadata": {},
     "output_type": "execute_result"
    }
   ],
   "source": [
    "new_df.sample(10) #here is our sentiment analysis score "
   ]
  },
  {
   "cell_type": "code",
   "execution_count": null,
   "id": "3455a20a-710e-45ef-99c6-9efcefd0870b",
   "metadata": {},
   "outputs": [],
   "source": []
  }
 ],
 "metadata": {
  "kernelspec": {
   "display_name": "newenv",
   "language": "python",
   "name": "newenv"
  },
  "language_info": {
   "codemirror_mode": {
    "name": "ipython",
    "version": 3
   },
   "file_extension": ".py",
   "mimetype": "text/x-python",
   "name": "python",
   "nbconvert_exporter": "python",
   "pygments_lexer": "ipython3",
   "version": "3.10.16"
  }
 },
 "nbformat": 4,
 "nbformat_minor": 5
}
